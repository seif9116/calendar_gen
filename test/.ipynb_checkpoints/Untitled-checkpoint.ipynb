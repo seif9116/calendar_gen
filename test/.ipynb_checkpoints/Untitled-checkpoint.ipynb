{
 "cells": [
  {
   "cell_type": "markdown",
   "id": "75c258c8",
   "metadata": {},
   "source": [
    "# File Search"
   ]
  },
  {
   "cell_type": "markdown",
   "id": "bc6c444f",
   "metadata": {},
   "source": [
    "## Step 1: Create a new Assistant with File Search Enabled"
   ]
  },
  {
   "cell_type": "code",
   "execution_count": 1,
   "id": "7a798e72",
   "metadata": {},
   "outputs": [],
   "source": [
    "from openai import OpenAI\n",
    "from dotenv import load_dotenv\n",
    "import os\n",
    "#from tools import TOOLS\n",
    "TOOLS = [\n",
    "    {\n",
    "        'type': 'file_search'\n",
    "    },\n",
    "\n",
    "    {\n",
    "        'type': 'function',\n",
    "        'function': {\n",
    "            'name': 'get_events',\n",
    "            'description': 'Gets events from a syllabus',\n",
    "            'parameters': {\n",
    "                'type': 'object',\n",
    "                'properties': {\n",
    "                    'course name': {\n",
    "                        'type': 'string',\n",
    "                        'description': 'name of the course'\n",
    "                    },\n",
    "                    'events': {\n",
    "                        'type': 'array',\n",
    "                        'items': {\n",
    "                            'type': 'object',\n",
    "                            'description': 'Each calendar event',\n",
    "                            'properties': {\n",
    "                                'name': {\n",
    "                                    'type': 'string',\n",
    "                                    'description': 'name of event',\n",
    "                                },\n",
    "                                'begin': {\n",
    "                                    'type': 'string',\n",
    "                                    'description': ('start date, format should be'\n",
    "                                                   'YYYY-MM-DD 00:00:00')\n",
    "                                },\n",
    "                                'end': {\n",
    "                                    'type': 'string',\n",
    "                                    'description': ('end date, format should be'\n",
    "                                                   'YYYY-MM-DD 00:00:00')\n",
    "                                },\n",
    "                                'description': {\n",
    "                                    'type': 'string',\n",
    "                                    'description': 'description of the event'\n",
    "                                },\n",
    "                                'location': {\n",
    "                                    'type': 'string',\n",
    "                                    'description': 'location of the event'\n",
    "                                }\n",
    "                            }\n",
    "                        }\n",
    "                    }\n",
    "                },\n",
    "                'required': ['course name', 'events']\n",
    "            },\n",
    "\n",
    "        }\n",
    "    }\n",
    "\n",
    "]\n",
    "\n",
    "load_dotenv()\n",
    "api_key = os.environ.get('OPENAI_API_KEY')\n",
    "\n",
    "client = OpenAI(api_key=api_key)\n",
    "\n",
    "assistant = client.beta.assistants.create(\n",
    "        name='Calendar File Generator',\n",
    "        instructions=('Your job is to generate calendar files. You do this by'\n",
    "                     'only using the get_events function'),\n",
    "        temperature=0.00001, # to make results as deterministic as possible\n",
    "        model='gpt-4o',\n",
    "        tools=TOOLS\n",
    "    )"
   ]
  },
  {
   "cell_type": "markdown",
   "id": "d359cf11",
   "metadata": {},
   "source": [
    "## Step 2: Upload files and add them to a Vector Store"
   ]
  },
  {
   "cell_type": "code",
   "execution_count": 2,
   "id": "b1e4f0bd",
   "metadata": {},
   "outputs": [],
   "source": [
    "vector_store = client.beta.vector_stores.create(name='syllabi')\n",
    "\n",
    "input_folder = 'input'\n",
    "file_streams = [open(os.path.join(input_folder, file_name), 'rb')\n",
    "               for file_name in os.listdir(input_folder)]\n",
    "\n",
    "file_batch = client.beta.vector_stores.file_batches.upload_and_poll(\n",
    "    vector_store_id=vector_store.id, files=file_streams\n",
    ")"
   ]
  },
  {
   "cell_type": "markdown",
   "id": "a33fc9a9",
   "metadata": {},
   "source": [
    "## Step 3: Update the assistant to use the new Vector Store"
   ]
  },
  {
   "cell_type": "code",
   "execution_count": 3,
   "id": "9e462dc6",
   "metadata": {},
   "outputs": [],
   "source": [
    "assistant = client.beta.assistants.update(\n",
    "    assistant_id = assistant.id,\n",
    "    tool_resources={'file_search': {'vector_store_ids': [vector_store.id]}}\n",
    ")"
   ]
  },
  {
   "cell_type": "markdown",
   "id": "c245c379",
   "metadata": {},
   "source": [
    "## Step 4: Create a thread"
   ]
  },
  {
   "cell_type": "code",
   "execution_count": 4,
   "id": "cfa4cfb2",
   "metadata": {},
   "outputs": [],
   "source": [
    "message_file=client.files.create(\n",
    "    file=file_streams[0], purpose='assistants'\n",
    ")\n",
    "prompt = ('Read my attached pdf and get the events for it by using this'\n",
    "         'get_events function. You only want to fill out Midterms, Final Exams,'\n",
    "         ' Assignments, Quizes, and labs as events. I want you to open the file to get'\n",
    "         'the information')\n",
    "\n",
    "thread = client.beta.threads.create(\n",
    "            messages=[\n",
    "            {\n",
    "            'role': 'user',\n",
    "            'content': prompt,\n",
    "            'attachments': [\n",
    "                {'file_id': message_file.id, 'tools': [{'type': 'file_search'}]}\n",
    "            ],\n",
    "        }\n",
    "    ]\n",
    ")"
   ]
  },
  {
   "cell_type": "markdown",
   "id": "6821949f",
   "metadata": {},
   "source": [
    "## Step 5: Create a run and check the output"
   ]
  },
  {
   "cell_type": "code",
   "execution_count": 5,
   "id": "6085c639",
   "metadata": {},
   "outputs": [
    {
     "data": {
      "text/plain": [
       "'\\nfor event in calendar.events:\\n    print(f\"Event: {event.name}\")\\n    print(f\"Start: {event.begin}\")\\n    print(f\"End: {event.end}\")\\n    print(f\"Description: {event.description}\")\\n    print(f\"Location: {event.location}\")\\n    print(\"-\" * 20) \\n'"
      ]
     },
     "execution_count": 5,
     "metadata": {},
     "output_type": "execute_result"
    }
   ],
   "source": [
    "run = client.beta.threads.runs.create_and_poll(\n",
    "    thread_id=thread.id, assistant_id=assistant.id,\n",
    "    #tool_choice={'type': 'function', 'function': {'name': 'get_events'}}\n",
    ")\n",
    "\n",
    "messages=list(client.beta.threads.messages.list(thread_id=thread.id, run_id=run.id))\n",
    "\n",
    "#message_content = messages[0].content[0].text\n",
    "#annotations = message_content.annotations\n",
    "#citations =[]\n",
    "#for index, annotation in enumerate(annotations):\n",
    "#    message_content.value = message_content.value.replace(annotation.text,f'[{index}]')\n",
    "#    if file_citation != getattr(annotation, 'file_citation', None):\n",
    "#        cited_file = client.files.retrieve(file_citation.file_id)\n",
    "#        citations.append(f\"[{index}] {cited_file.filename}\")\n",
    "\n",
    "#from ics import Calendar\n",
    "\n",
    "#calendar = Calendar(message_content.value)\n",
    "'''\n",
    "for event in calendar.events:\n",
    "    print(f\"Event: {event.name}\")\n",
    "    print(f\"Start: {event.begin}\")\n",
    "    print(f\"End: {event.end}\")\n",
    "    print(f\"Description: {event.description}\")\n",
    "    print(f\"Location: {event.location}\")\n",
    "    print(\"-\" * 20) \n",
    "'''"
   ]
  },
  {
   "cell_type": "code",
   "execution_count": 6,
   "id": "81fd5505",
   "metadata": {},
   "outputs": [
    {
     "data": {
      "text/plain": [
       "[]"
      ]
     },
     "execution_count": 6,
     "metadata": {},
     "output_type": "execute_result"
    }
   ],
   "source": [
    "messages"
   ]
  },
  {
   "cell_type": "code",
   "execution_count": 7,
   "id": "4ed41665",
   "metadata": {
    "scrolled": true
   },
   "outputs": [
    {
     "data": {
      "text/plain": [
       "Run(id='run_IW2MmVPCgh5GPLS3XvhFXlRB', assistant_id='asst_ARowiEbjuUTPRubn8f5tancJ', cancelled_at=None, completed_at=None, created_at=1721104963, expires_at=1721105563, failed_at=None, incomplete_details=None, instructions='Your job is to generate calendar files. You do this byonly using the get_events function', last_error=None, max_completion_tokens=None, max_prompt_tokens=None, metadata={}, model='gpt-4o', object='thread.run', parallel_tool_calls=True, required_action=RequiredAction(submit_tool_outputs=RequiredActionSubmitToolOutputs(tool_calls=[RequiredActionFunctionToolCall(id='call_FmbbGX7LsB3O6IRl1mzMUiTs', function=Function(arguments='{\"course name\":\"PHIL 120: Symbolic Logic I\",\"events\":[{\"name\":\"Midterm 1\",\"begin\":\"2023-09-27 13:00:00\",\"end\":\"2023-09-27 13:50:00\",\"description\":\"Midterm 1 covering initial topics of the course.\",\"location\":\"Classroom\"},{\"name\":\"Midterm 2\",\"begin\":\"2023-10-25 13:00:00\",\"end\":\"2023-10-25 13:50:00\",\"description\":\"Midterm 2 covering subsequent topics of the course.\",\"location\":\"Classroom\"},{\"name\":\"Midterm 3\",\"begin\":\"2023-11-22 13:00:00\",\"end\":\"2023-11-22 13:50:00\",\"description\":\"Midterm 3 covering later topics of the course.\",\"location\":\"Classroom\"},{\"name\":\"Final Exam\",\"begin\":\"2023-12-14 14:00:00\",\"end\":\"2023-12-14 16:00:00\",\"description\":\"Final exam covering all course material.\",\"location\":\"Classroom\"}]}', name='get_events'), type='function')]), type='submit_tool_outputs'), response_format='auto', started_at=1721104963, status='requires_action', thread_id='thread_KcgFVK4fUTSW8uboUC4KHux0', tool_choice='auto', tools=[FileSearchTool(type='file_search', file_search=None), FunctionTool(function=FunctionDefinition(name='get_events', description='Gets events from a syllabus', parameters={'type': 'object', 'properties': {'course name': {'type': 'string', 'description': 'name of the course'}, 'events': {'type': 'array', 'items': {'type': 'object', 'description': 'Each calendar event', 'properties': {'name': {'type': 'string', 'description': 'name of event'}, 'begin': {'type': 'string', 'description': 'start date, format should beYYYY-MM-DD 00:00:00'}, 'end': {'type': 'string', 'description': 'end date, format should beYYYY-MM-DD 00:00:00'}, 'description': {'type': 'string', 'description': 'description of the event'}, 'location': {'type': 'string', 'description': 'location of the event'}}}}}, 'required': ['course name', 'events']}), type='function')], truncation_strategy=TruncationStrategy(type='auto', last_messages=None), usage=None, temperature=1e-05, top_p=1.0, tool_resources={})"
      ]
     },
     "execution_count": 7,
     "metadata": {},
     "output_type": "execute_result"
    }
   ],
   "source": [
    "run"
   ]
  },
  {
   "cell_type": "code",
   "execution_count": 8,
   "id": "7f90f0c5",
   "metadata": {},
   "outputs": [
    {
     "data": {
      "text/plain": [
       "RequiredAction(submit_tool_outputs=RequiredActionSubmitToolOutputs(tool_calls=[RequiredActionFunctionToolCall(id='call_FmbbGX7LsB3O6IRl1mzMUiTs', function=Function(arguments='{\"course name\":\"PHIL 120: Symbolic Logic I\",\"events\":[{\"name\":\"Midterm 1\",\"begin\":\"2023-09-27 13:00:00\",\"end\":\"2023-09-27 13:50:00\",\"description\":\"Midterm 1 covering initial topics of the course.\",\"location\":\"Classroom\"},{\"name\":\"Midterm 2\",\"begin\":\"2023-10-25 13:00:00\",\"end\":\"2023-10-25 13:50:00\",\"description\":\"Midterm 2 covering subsequent topics of the course.\",\"location\":\"Classroom\"},{\"name\":\"Midterm 3\",\"begin\":\"2023-11-22 13:00:00\",\"end\":\"2023-11-22 13:50:00\",\"description\":\"Midterm 3 covering later topics of the course.\",\"location\":\"Classroom\"},{\"name\":\"Final Exam\",\"begin\":\"2023-12-14 14:00:00\",\"end\":\"2023-12-14 16:00:00\",\"description\":\"Final exam covering all course material.\",\"location\":\"Classroom\"}]}', name='get_events'), type='function')]), type='submit_tool_outputs')"
      ]
     },
     "execution_count": 8,
     "metadata": {},
     "output_type": "execute_result"
    }
   ],
   "source": [
    "run.required_action"
   ]
  },
  {
   "cell_type": "code",
   "execution_count": 13,
   "id": "40d48af5",
   "metadata": {},
   "outputs": [],
   "source": [
    "json_string = run.required_action.submit_tool_outputs.tool_calls[0].function.arguments"
   ]
  },
  {
   "cell_type": "code",
   "execution_count": 14,
   "id": "9eb03704",
   "metadata": {},
   "outputs": [],
   "source": [
    "import json"
   ]
  },
  {
   "cell_type": "code",
   "execution_count": 16,
   "id": "0998aaba",
   "metadata": {},
   "outputs": [],
   "source": [
    "data_dict = json.loads(json_string)"
   ]
  },
  {
   "cell_type": "code",
   "execution_count": 17,
   "id": "8fe28380",
   "metadata": {},
   "outputs": [
    {
     "data": {
      "text/plain": [
       "{'course name': 'PHIL 120: Symbolic Logic I',\n",
       " 'events': [{'name': 'Midterm 1',\n",
       "   'begin': '2023-09-27 13:00:00',\n",
       "   'end': '2023-09-27 13:50:00',\n",
       "   'description': 'Midterm 1 covering initial topics of the course.',\n",
       "   'location': 'Classroom'},\n",
       "  {'name': 'Midterm 2',\n",
       "   'begin': '2023-10-25 13:00:00',\n",
       "   'end': '2023-10-25 13:50:00',\n",
       "   'description': 'Midterm 2 covering subsequent topics of the course.',\n",
       "   'location': 'Classroom'},\n",
       "  {'name': 'Midterm 3',\n",
       "   'begin': '2023-11-22 13:00:00',\n",
       "   'end': '2023-11-22 13:50:00',\n",
       "   'description': 'Midterm 3 covering later topics of the course.',\n",
       "   'location': 'Classroom'},\n",
       "  {'name': 'Final Exam',\n",
       "   'begin': '2023-12-14 14:00:00',\n",
       "   'end': '2023-12-14 16:00:00',\n",
       "   'description': 'Final exam covering all course material.',\n",
       "   'location': 'Classroom'}]}"
      ]
     },
     "execution_count": 17,
     "metadata": {},
     "output_type": "execute_result"
    }
   ],
   "source": [
    "data_dict"
   ]
  },
  {
   "cell_type": "code",
   "execution_count": null,
   "id": "4cb92723",
   "metadata": {},
   "outputs": [],
   "source": []
  }
 ],
 "metadata": {
  "kernelspec": {
   "display_name": "Python 3 (ipykernel)",
   "language": "python",
   "name": "python3"
  },
  "language_info": {
   "codemirror_mode": {
    "name": "ipython",
    "version": 3
   },
   "file_extension": ".py",
   "mimetype": "text/x-python",
   "name": "python",
   "nbconvert_exporter": "python",
   "pygments_lexer": "ipython3",
   "version": "3.11.3"
  }
 },
 "nbformat": 4,
 "nbformat_minor": 5
}
